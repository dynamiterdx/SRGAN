{
 "cells": [
  {
   "cell_type": "code",
   "execution_count": 5,
   "metadata": {},
   "outputs": [],
   "source": [
    "import torch\n",
    "import torch.nn as nn\n",
    "from torch.utils.data import Dataset, DataLoader\n",
    "import torchvision.transforms as tf\n",
    "import cv2\n",
    "import numpy as np\n",
    "import os\n",
    "import matplotlib.pyplot as plt"
   ]
  },
  {
   "cell_type": "code",
   "execution_count": 2,
   "metadata": {},
   "outputs": [],
   "source": [
    "from tqdm.notebook import tqdm\n",
    "import PIL"
   ]
  },
  {
   "cell_type": "markdown",
   "metadata": {},
   "source": [
    "###  Train"
   ]
  },
  {
   "cell_type": "markdown",
   "metadata": {},
   "source": [
    "### Eval"
   ]
  },
  {
   "cell_type": "code",
   "execution_count": 3,
   "metadata": {},
   "outputs": [],
   "source": [
    "IMG_SIZE = 128"
   ]
  },
  {
   "cell_type": "code",
   "execution_count": 1,
   "metadata": {},
   "outputs": [],
   "source": [
    "#Generator Network\n",
    "class Generator"
   ]
  },
  {
   "cell_type": "markdown",
   "metadata": {},
   "source": [
    "###  Prepare data"
   ]
  },
  {
   "cell_type": "code",
   "execution_count": 4,
   "metadata": {},
   "outputs": [],
   "source": [
    "CROP_SIZE = 128\n",
    "class TrainDataset(Dataset):\n",
    "    def __init__(self, dest, path):\n",
    "        super(TrainDataset, self).__init__()\n",
    "        self.image_names = [os.path.join(x,path) for x in os.listdir(path)]\n",
    "        self.lr_preprocess = tf.Compose([tf.ToPILImage(),tf.Resize((CROP_SIZE,CROP_SIZE), interpolation = PIL.Image.BICUBIC),tf.ToTensor()])\n",
    "        self.hr_preprocess = tf.Compose([tf.ToTensor()])\n",
    "        self.len = len(self.image_names)\n",
    "    def __len__(self):\n",
    "        return self.len\n",
    "    def __getitem__(self, index):\n",
    "        img = self.image_names[index]\n",
    "        hr = self.hr_preprocess(PIL.Image.open(img))\n",
    "        lr = self.lr_preprocess(hr)\n",
    "        return lr,hr"
   ]
  },
  {
   "cell_type": "code",
   "execution_count": 33,
   "metadata": {},
   "outputs": [],
   "source": [
    "lr_preprocess = tf.Compose([tf.ToPILImage(),tf.Resize((CROP_SIZE,CROP_SIZE), interpolation = PIL.Image.BICUBIC),tf.ToTensor()])\n",
    "hr_preprocess = tf.Compose([tf.ToTensor()])\n",
    "img =PIL.Image.open(path)\n",
    "img_hr = hr_preprocess(PIL.Image.open(path))\n",
    "img_lr = lr_preprocess(img_hr)"
   ]
  },
  {
   "cell_type": "markdown",
   "metadata": {},
   "source": [
    "# Model"
   ]
  },
  {
   "cell_type": "markdown",
   "metadata": {},
   "source": [
    "<img src = \"https://miro.medium.com/max/4916/1*zsiBj3IL4ALeLgsCeQ3lyA.png\">"
   ]
  },
  {
   "cell_type": "markdown",
   "metadata": {},
   "source": [
    "### Generator Network"
   ]
  },
  {
   "cell_type": "code",
   "execution_count": 9,
   "metadata": {},
   "outputs": [],
   "source": [
    "#Residual Block\n",
    "class Residual_Block(nn.Module):\n",
    "    def __init__(self):\n",
    "        super(Residual_Block, self).__init__()\n",
    "        self.conv1 = nn.Conv2d(in_channels = 64, out_channels = 64, kernel_size = 3, padding = 1)\n",
    "        self.BN1 = nn.BatchNorm2d(num_features = 64)\n",
    "        self.conv2 = nn.Conv2d(in_channels = 64, out_channels = 64, padding = 1)\n",
    "        self.BN2 = nn.BatchNorm2d(num_features = 64)\n",
    "    def forward(self, x):\n",
    "        yhat = self.conv1(x)\n",
    "        yhat = self.BN1(x)\n",
    "        yhat = nn.PReLU(yhat)\n",
    "        yhat = self.conv2(x)\n",
    "        yhat = self.BN2(x)\n",
    "        x = x+yhat\n",
    "#Upsample Block\n",
    "class Upsample_Block(nn.Module):\n",
    "    def __init__(self):\n",
    "        super(Upsample_Block, self).__init__()\n",
    "        self.conv1 = nn.Conv2d(in_channels = 64, out_channels = 1024, kernel_size = 3, stride = 1)\n",
    "        self.ps = nn.PixelShuffle(upscale_factor = 4)\n",
    "    def forward(self, x):\n",
    "        yhat = self.conv1(x)\n",
    "        yhat = self.ps(yhat)\n",
    "        yhat = nn.PReLU(yhat)\n",
    "        return yhat\n",
    "        "
   ]
  },
  {
   "cell_type": "code",
   "execution_count": 10,
   "metadata": {},
   "outputs": [],
   "source": [
    "#Generator Block\n",
    "class Generator(nn.Module):\n",
    "    def __init__(self):\n",
    "        super(Generator, self).__init__()\n",
    "        self.conv1 = nn.Conv2d(in_channels = 3, out_channels = 64, kernel_size = 9, stride = 1)\n",
    "        #8 Residual Blocks\n",
    "        self.residuals = nn.ModuleList([ResidualBlock for x in range(8)])\n",
    "        self.conv2 = nn.Conv2d(in_channels = 64, out_channels = 64, kernel_size = 3, stride = 1)\n",
    "        self.BN1 = nn.BatchNord2d(num_features = 64)\n",
    "        # 2 Upsampling Blocks\n",
    "        self.upsamples = nn.ModuleList([Upsample_Block for x in range(2)])\n",
    "        self.conv3 = nn.Conv2d(in_channels = 1024, out_channels = 3, kernel_size = 9, stride = 1)\n",
    "    def forward(self, x):\n",
    "        x = self.conv1(x)\n",
    "        x = nn.PReLU(x)\n",
    "        x_res = x.clone()\n",
    "        x_res = self.residuals(x_res)\n",
    "        x_res = self.conv2(x_res)\n",
    "        x_res = self.BN1(x_res)\n",
    "        x = x+x_res\n",
    "        x = self.upsamples(x)\n",
    "        yhat = self.conv3(x)\n",
    "        return yhat"
   ]
  },
  {
   "cell_type": "markdown",
   "metadata": {},
   "source": [
    "### Discriminator Network"
   ]
  },
  {
   "cell_type": "code",
   "execution_count": 38,
   "metadata": {},
   "outputs": [],
   "source": [
    "class Discriminator(nn.Module):\n",
    "    def __init__(self, l=0.2):\n",
    "        super(Discriminator, self).__init__()\n",
    "        self.net = nn.Sequential(\n",
    "        nn.Conv2d(in_channels = 3, out_channels = 64, kernel_size = 3, stride = 1),\n",
    "        nn.LeakyReLU(l),\n",
    "        \n",
    "        nn.Conv2d(in_channels = 64, out_channels = 64, kernel_size = 3, stride = 2, padding = 1),\n",
    "        nn.BatchNorm2d(num_features = 64),\n",
    "        nn.LeakyReLU(l),\n",
    "            \n",
    "        nn.Conv2d(in_channels = 64, out_channels = 128, kernel_size = 3, stride = 1, padding = 1),\n",
    "        nn.BatchNorm2d(num_features = 128),\n",
    "        nn.LeakyReLU(l),\n",
    "        \n",
    "        nn.Conv2d(in_channels = 128, out_channels = 128, kernel_size = 3, stride = 2, padding = 1),\n",
    "        nn.BatchNorm2d(num_features = 128),\n",
    "        nn.LeakyReLU(l),\n",
    "            \n",
    "        nn.Conv2d(in_channels = 128, out_channels = 256, kernel_size = 3, stride = 1, padding = 1),\n",
    "        nn.BatchNorm2d(num_features = 256),\n",
    "        nn.LeakyReLU(l),\n",
    "            \n",
    "        nn.Conv2d(in_channels = 256, out_channels = 256, kernel_size = 3, stride = 2, padding = 1),\n",
    "        nn.BatchNorm2d(num_features = 256),\n",
    "        nn.LeakyReLU(l),\n",
    "            \n",
    "        nn.Conv2d(in_channels = 256, out_channels = 512, kernel_size = 3, stride = 1, padding = 1),\n",
    "        nn.BatchNorm2d(num_features = 512),\n",
    "        nn.LeakyReLU(l),\n",
    "            \n",
    "        nn.Conv2d(in_channels = 512, out_channels = 512, kernel_size = 3, stride = 2, padding = 1),\n",
    "        nn.BatchNorm2d(num_features = 512),\n",
    "        nn.LeakyReLU(l),\n",
    "            \n",
    "        nn.AdaptiveAvgPool2d(1),\n",
    "        nn.Conv2d(512, 1024, kernel_size = 1),\n",
    "        nn.LeakyReLU(l),\n",
    "        nn.Conv2d(1024,1,kernel_size = 1)\n",
    "        )\n",
    "    def forward(self,x):\n",
    "        y = self.net(x)\n",
    "        yhat = torch.sigmoid(y).view(x.shape[0])\n",
    "        return yhat"
   ]
  },
  {
   "cell_type": "code",
   "execution_count": 39,
   "metadata": {},
   "outputs": [],
   "source": [
    "x = torch.randn((5,3,512,512))"
   ]
  },
  {
   "cell_type": "code",
   "execution_count": 40,
   "metadata": {},
   "outputs": [],
   "source": [
    "disc = Discriminator()"
   ]
  },
  {
   "cell_type": "code",
   "execution_count": 41,
   "metadata": {},
   "outputs": [],
   "source": [
    "y = disc(x)"
   ]
  },
  {
   "cell_type": "code",
   "execution_count": 44,
   "metadata": {},
   "outputs": [
    {
     "data": {
      "text/plain": [
       "tensor([0.4547, 0.4564, 0.4596, 0.4561, 0.4580])"
      ]
     },
     "execution_count": 44,
     "metadata": {},
     "output_type": "execute_result"
    }
   ],
   "source": [
    "y.data"
   ]
  },
  {
   "cell_type": "code",
   "execution_count": null,
   "metadata": {},
   "outputs": [],
   "source": []
  }
 ],
 "metadata": {
  "kernelspec": {
   "display_name": "Python 3",
   "language": "python",
   "name": "python3"
  },
  "language_info": {
   "codemirror_mode": {
    "name": "ipython",
    "version": 3
   },
   "file_extension": ".py",
   "mimetype": "text/x-python",
   "name": "python",
   "nbconvert_exporter": "python",
   "pygments_lexer": "ipython3",
   "version": "3.7.9"
  }
 },
 "nbformat": 4,
 "nbformat_minor": 4
}
