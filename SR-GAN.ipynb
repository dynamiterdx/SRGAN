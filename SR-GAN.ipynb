{
 "cells": [
  {
   "cell_type": "code",
   "execution_count": 3,
   "metadata": {},
   "outputs": [],
   "source": [
    "import torch\n",
    "import torch.nn as nn\n",
    "import torch.nn.functional as F\n",
    "from torch.utils.data import Dataset, DataLoader\n",
    "import torchvision.transforms as tf\n",
    "import cv2\n",
    "import numpy as np\n",
    "import os\n",
    "import matplotlib.pyplot as plt\n",
    "\n",
    "from tqdm.notebook import tqdm\n",
    "import PIL"
   ]
  },
  {
   "cell_type": "markdown",
   "metadata": {},
   "source": [
    "### Eval"
   ]
  },
  {
   "cell_type": "markdown",
   "metadata": {},
   "source": [
    "###  Prepare data"
   ]
  },
  {
   "cell_type": "code",
   "execution_count": 4,
   "metadata": {},
   "outputs": [],
   "source": [
    "CROP_SIZE = 128\n",
    "class TrainDataset(Dataset):\n",
    "    def __init__(self, dest, path):\n",
    "        super(TrainDataset, self).__init__()\n",
    "        self.image_names = [os.path.join(x,path) for x in os.listdir(path)]\n",
    "        self.lr_preprocess = tf.Compose([tf.ToPILImage(),tf.Resize((CROP_SIZE,CROP_SIZE), interpolation = PIL.Image.BICUBIC),tf.ToTensor()])\n",
    "        self.hr_preprocess = tf.Compose([tf.ToTensor()])\n",
    "        self.len = len(self.image_names)\n",
    "    def __len__(self):\n",
    "        return self.len\n",
    "    def __getitem__(self, index):\n",
    "        img = self.image_names[index]\n",
    "        hr = self.hr_preprocess(PIL.Image.open(img))\n",
    "        lr = self.lr_preprocess(hr)\n",
    "        return lr,hr"
   ]
  },
  {
   "cell_type": "code",
   "execution_count": 3,
   "metadata": {},
   "outputs": [
    {
     "ename": "NameError",
     "evalue": "name 'path' is not defined",
     "output_type": "error",
     "traceback": [
      "\u001b[1;31m---------------------------------------------------------------------------\u001b[0m",
      "\u001b[1;31mNameError\u001b[0m                                 Traceback (most recent call last)",
      "\u001b[1;32m<ipython-input-3-07af2aafa67c>\u001b[0m in \u001b[0;36m<module>\u001b[1;34m\u001b[0m\n\u001b[0;32m      1\u001b[0m \u001b[0mlr_preprocess\u001b[0m \u001b[1;33m=\u001b[0m \u001b[0mtf\u001b[0m\u001b[1;33m.\u001b[0m\u001b[0mCompose\u001b[0m\u001b[1;33m(\u001b[0m\u001b[1;33m[\u001b[0m\u001b[0mtf\u001b[0m\u001b[1;33m.\u001b[0m\u001b[0mToPILImage\u001b[0m\u001b[1;33m(\u001b[0m\u001b[1;33m)\u001b[0m\u001b[1;33m,\u001b[0m\u001b[0mtf\u001b[0m\u001b[1;33m.\u001b[0m\u001b[0mResize\u001b[0m\u001b[1;33m(\u001b[0m\u001b[1;33m(\u001b[0m\u001b[0mCROP_SIZE\u001b[0m\u001b[1;33m,\u001b[0m\u001b[0mCROP_SIZE\u001b[0m\u001b[1;33m)\u001b[0m\u001b[1;33m,\u001b[0m \u001b[0minterpolation\u001b[0m \u001b[1;33m=\u001b[0m \u001b[0mPIL\u001b[0m\u001b[1;33m.\u001b[0m\u001b[0mImage\u001b[0m\u001b[1;33m.\u001b[0m\u001b[0mBICUBIC\u001b[0m\u001b[1;33m)\u001b[0m\u001b[1;33m,\u001b[0m\u001b[0mtf\u001b[0m\u001b[1;33m.\u001b[0m\u001b[0mToTensor\u001b[0m\u001b[1;33m(\u001b[0m\u001b[1;33m)\u001b[0m\u001b[1;33m]\u001b[0m\u001b[1;33m)\u001b[0m\u001b[1;33m\u001b[0m\u001b[1;33m\u001b[0m\u001b[0m\n\u001b[0;32m      2\u001b[0m \u001b[0mhr_preprocess\u001b[0m \u001b[1;33m=\u001b[0m \u001b[0mtf\u001b[0m\u001b[1;33m.\u001b[0m\u001b[0mCompose\u001b[0m\u001b[1;33m(\u001b[0m\u001b[1;33m[\u001b[0m\u001b[0mtf\u001b[0m\u001b[1;33m.\u001b[0m\u001b[0mToTensor\u001b[0m\u001b[1;33m(\u001b[0m\u001b[1;33m)\u001b[0m\u001b[1;33m]\u001b[0m\u001b[1;33m)\u001b[0m\u001b[1;33m\u001b[0m\u001b[1;33m\u001b[0m\u001b[0m\n\u001b[1;32m----> 3\u001b[1;33m \u001b[0mimg\u001b[0m \u001b[1;33m=\u001b[0m\u001b[0mPIL\u001b[0m\u001b[1;33m.\u001b[0m\u001b[0mImage\u001b[0m\u001b[1;33m.\u001b[0m\u001b[0mopen\u001b[0m\u001b[1;33m(\u001b[0m\u001b[0mpath\u001b[0m\u001b[1;33m)\u001b[0m\u001b[1;33m\u001b[0m\u001b[1;33m\u001b[0m\u001b[0m\n\u001b[0m\u001b[0;32m      4\u001b[0m \u001b[0mimg_hr\u001b[0m \u001b[1;33m=\u001b[0m \u001b[0mhr_preprocess\u001b[0m\u001b[1;33m(\u001b[0m\u001b[0mPIL\u001b[0m\u001b[1;33m.\u001b[0m\u001b[0mImage\u001b[0m\u001b[1;33m.\u001b[0m\u001b[0mopen\u001b[0m\u001b[1;33m(\u001b[0m\u001b[0mpath\u001b[0m\u001b[1;33m)\u001b[0m\u001b[1;33m)\u001b[0m\u001b[1;33m\u001b[0m\u001b[1;33m\u001b[0m\u001b[0m\n\u001b[0;32m      5\u001b[0m \u001b[0mimg_lr\u001b[0m \u001b[1;33m=\u001b[0m \u001b[0mlr_preprocess\u001b[0m\u001b[1;33m(\u001b[0m\u001b[0mimg_hr\u001b[0m\u001b[1;33m)\u001b[0m\u001b[1;33m\u001b[0m\u001b[1;33m\u001b[0m\u001b[0m\n",
      "\u001b[1;31mNameError\u001b[0m: name 'path' is not defined"
     ]
    }
   ],
   "source": [
    "lr_preprocess = tf.Compose([tf.ToPILImage(),tf.Resize((CROP_SIZE,CROP_SIZE), interpolation = PIL.Image.BICUBIC),tf.ToTensor()])\n",
    "hr_preprocess = tf.Compose([tf.ToTensor()])\n",
    "img =PIL.Image.open(path)\n",
    "img_hr = hr_preprocess(PIL.Image.open(path))\n",
    "img_lr = lr_preprocess(img_hr)"
   ]
  },
  {
   "cell_type": "markdown",
   "metadata": {},
   "source": [
    "# Model"
   ]
  },
  {
   "cell_type": "markdown",
   "metadata": {},
   "source": [
    "<img src = \"https://miro.medium.com/max/4916/1*zsiBj3IL4ALeLgsCeQ3lyA.png\">"
   ]
  },
  {
   "cell_type": "markdown",
   "metadata": {},
   "source": [
    "### Generator Network"
   ]
  },
  {
   "cell_type": "code",
   "execution_count": 5,
   "metadata": {},
   "outputs": [],
   "source": [
    "#Residual Block\n",
    "class Residual_Block(nn.Module):\n",
    "    def __init__(self):\n",
    "        super(Residual_Block, self).__init__()\n",
    "        self.net = nn.Sequential(\n",
    "        nn.Conv2d(in_channels = 64, out_channels = 64, kernel_size = 3, padding = 1),\n",
    "        nn.BatchNorm2d(num_features = 64),\n",
    "        nn.PReLU(),\n",
    "        nn.Conv2d(in_channels = 64, out_channels = 64, kernel_size = 3, padding = 1),\n",
    "        nn.BatchNorm2d(num_features = 64)\n",
    "        )\n",
    "    def forward(self, x):\n",
    "        x = x+self.net(x)\n",
    "        #print(\"After residial block:\",x.shape)\n",
    "        return x\n",
    "#Upsample Block\n",
    "class Upsample_Block(nn.Module):\n",
    "    def __init__(self, in_ch,scale_factor):\n",
    "        super(Upsample_Block, self).__init__()\n",
    "        self.net  = nn.Sequential(\n",
    "        nn.Conv2d(in_channels = in_ch, out_channels = in_ch*(scale_factor**2), kernel_size = 3, stride = 1, padding = 1),\n",
    "        nn.PixelShuffle(upscale_factor = scale_factor),\n",
    "        nn.PReLU()\n",
    "        )\n",
    "    def forward(self, x):\n",
    "        x = self.net(x)\n",
    "        #print(\"After upsampling:\",x.shape)\n",
    "        return x\n",
    "        \n",
    "\n",
    "#Generator Block\n",
    "class Generator(nn.Module):\n",
    "    def __init__(self):\n",
    "        super(Generator, self).__init__()\n",
    "        #First Block\n",
    "        self.block1 = nn.Sequential(\n",
    "        nn.Conv2d(in_channels = 3, out_channels = 64, kernel_size = 9, padding = 4,stride = 1),\n",
    "        nn.PReLU()\n",
    "        )\n",
    "        #8 Residual Blocks\n",
    "        self.residuals = nn.ModuleList([Residual_Block() for x in range(8)]) \n",
    "        self.block2 = nn.Sequential(\n",
    "        nn.Conv2d(in_channels = 64, out_channels = 64, kernel_size = 3, stride = 1,padding = 1),\n",
    "        nn.BatchNorm2d(num_features = 64)\n",
    "        )\n",
    "        # 2 Upsampling Blocks\n",
    "        self.upsamples = nn.Sequential(\n",
    "        Upsample_Block(64,2),\n",
    "        Upsample_Block(64,2),\n",
    "        nn.Conv2d(in_channels = 64, out_channels = 3, kernel_size = 9, stride = 1, padding = 4)\n",
    "        )\n",
    "    def forward(self, x):\n",
    "        #print(\"Initial shape:\",x.shape)\n",
    "        x = self.block1(x)\n",
    "        #print(\"After Block 1:\", x.shape)\n",
    "        x_res = self.residuals[0](x)\n",
    "        for i in range(7):\n",
    "            x_res = self.residuals[i+1](x_res)\n",
    "        x_res = self.block2(x)\n",
    "        x = x+x_res\n",
    "        x = self.upsamples(x)\n",
    "        #print(\"Output Shape:\",x.shape)\n",
    "        return x"
   ]
  },
  {
   "cell_type": "markdown",
   "metadata": {},
   "source": [
    "### Discriminator Network"
   ]
  },
  {
   "cell_type": "code",
   "execution_count": 6,
   "metadata": {},
   "outputs": [],
   "source": [
    "class Discriminator(nn.Module):\n",
    "    def __init__(self, l=0.2):\n",
    "        super(Discriminator, self).__init__()\n",
    "        self.net = nn.Sequential(\n",
    "        nn.Conv2d(in_channels = 3, out_channels = 64, kernel_size = 3, stride = 1),\n",
    "        nn.LeakyReLU(l),\n",
    "        \n",
    "        nn.Conv2d(in_channels = 64, out_channels = 64, kernel_size = 3, stride = 2, padding = 1),\n",
    "        nn.BatchNorm2d(num_features = 64),\n",
    "        nn.LeakyReLU(l),\n",
    "            \n",
    "        nn.Conv2d(in_channels = 64, out_channels = 128, kernel_size = 3, stride = 1, padding = 1),\n",
    "        nn.BatchNorm2d(num_features = 128),\n",
    "        nn.LeakyReLU(l),\n",
    "        \n",
    "        nn.Conv2d(in_channels = 128, out_channels = 128, kernel_size = 3, stride = 2, padding = 1),\n",
    "        nn.BatchNorm2d(num_features = 128),\n",
    "        nn.LeakyReLU(l),\n",
    "            \n",
    "        nn.Conv2d(in_channels = 128, out_channels = 256, kernel_size = 3, stride = 1, padding = 1),\n",
    "        nn.BatchNorm2d(num_features = 256),\n",
    "        nn.LeakyReLU(l),\n",
    "            \n",
    "        nn.Conv2d(in_channels = 256, out_channels = 256, kernel_size = 3, stride = 2, padding = 1),\n",
    "        nn.BatchNorm2d(num_features = 256),\n",
    "        nn.LeakyReLU(l),\n",
    "            \n",
    "        nn.Conv2d(in_channels = 256, out_channels = 512, kernel_size = 3, stride = 1, padding = 1),\n",
    "        nn.BatchNorm2d(num_features = 512),\n",
    "        nn.LeakyReLU(l),\n",
    "            \n",
    "        nn.Conv2d(in_channels = 512, out_channels = 512, kernel_size = 3, stride = 2, padding = 1),\n",
    "        nn.BatchNorm2d(num_features = 512),\n",
    "        nn.LeakyReLU(l),\n",
    "            \n",
    "        nn.AdaptiveAvgPool2d(1),\n",
    "        nn.Conv2d(512, 1024, kernel_size = 1),\n",
    "        nn.LeakyReLU(l),\n",
    "        nn.Conv2d(1024,1,kernel_size = 1)\n",
    "        )\n",
    "    def forward(self,x):\n",
    "        y = self.net(x)\n",
    "        yhat = torch.sigmoid(y).view(x.shape[0])\n",
    "        return yhat"
   ]
  },
  {
   "cell_type": "markdown",
   "metadata": {},
   "source": [
    "Lets test the dimensional correctness with a random vector."
   ]
  },
  {
   "cell_type": "code",
   "execution_count": 7,
   "metadata": {},
   "outputs": [
    {
     "data": {
      "text/plain": [
       "torch.Size([5])"
      ]
     },
     "execution_count": 7,
     "metadata": {},
     "output_type": "execute_result"
    }
   ],
   "source": [
    "x = torch.randn((5,3,512,512))\n",
    "\n",
    "disc = Discriminator()\n",
    "\n",
    "y = disc(x)\n",
    "\n",
    "y.data.shape"
   ]
  },
  {
   "cell_type": "markdown",
   "metadata": {},
   "source": [
    "Look Good!"
   ]
  },
  {
   "cell_type": "markdown",
   "metadata": {},
   "source": [
    "##  Train"
   ]
  },
  {
   "cell_type": "markdown",
   "metadata": {},
   "source": [
    "The generic method of training GANs is given bellow. It was proposed by Ian Goodfellow et al in the first paper that introduced GANs."
   ]
  },
  {
   "cell_type": "markdown",
   "metadata": {},
   "source": [
    "<img src = \"https://3qeqpr26caki16dnhd19sv6by6v-wpengine.netdna-ssl.com/wp-content/uploads/2019/05/Summary-of-the-Generative-Adversarial-Network-Training-Algorithm-1024x669.png\" width = 600>"
   ]
  },
  {
   "cell_type": "code",
   "execution_count": 8,
   "metadata": {},
   "outputs": [],
   "source": [
    "HR_SIZE = 512\n",
    "LR_SIZE = 128\n",
    "SCALING_FACTOR = 4\n",
    "PRETRAIN_EPOCHS =2\n",
    "EPOCHS = 1"
   ]
  },
  {
   "cell_type": "markdown",
   "metadata": {},
   "source": [
    "I will first write the basic backbone training function, then add other functionalities such as-\n",
    "<ul>\n",
    "    <li>Sending model to GPU\n",
    "    <li>Label Smoothing</li>\n",
    "    <li>Label Flipping</li>\n",
    "    <li>Saving checkpoints when training</li>\n",
    "    <li>Visualizing the model with Tensorboard</li>\n",
    "    <li>Displaying epochwise performance</li>"
   ]
  },
  {
   "cell_type": "code",
   "execution_count": 14,
   "metadata": {},
   "outputs": [],
   "source": [
    "netG = Generator()\n",
    "netD = Discriminator()\n",
    "\n",
    "optimizerD = torch.optim.Adam(netD.parameters())\n",
    "optimizerG = torch.optim.Adam(netG.parameters())\n",
    "mse = nn.MSELoss()\n",
    "bce = nn.BCELoss()\n",
    "pretrain = True\n",
    "#criterionG = \n",
    "#criterionD = \n"
   ]
  },
  {
   "cell_type": "markdown",
   "metadata": {},
   "source": [
    "test_set\n",
    "train_set\n",
    "train_loader\n",
    "test_loader"
   ]
  },
  {
   "cell_type": "markdown",
   "metadata": {},
   "source": [
    "### Pretraining Generator"
   ]
  },
  {
   "cell_type": "code",
   "execution_count": null,
   "metadata": {},
   "outputs": [],
   "source": [
    "def pre_train():\n",
    "    optimizerG = torch.optim.Adam(netG.parameters())\n",
    "    print(\"Pretraining Generator:\")\n",
    "    for epoch in range(PRETRAIN_EPOCHS):\n",
    "        print(\"\\tEpoch: \",epoch)\n",
    "        netG.train()\n",
    "        for lr, hr in tqdm(train_loader):\n",
    "            netG.zero_grad()\n",
    "            sr  = netG(lr)\n",
    "            loss = mse(lr,hr)\n",
    "            loss.backward()\n",
    "            optimizerG.step()"
   ]
  },
  {
   "cell_type": "code",
   "execution_count": null,
   "metadata": {},
   "outputs": [],
   "source": []
  }
 ],
 "metadata": {
  "kernelspec": {
   "display_name": "Python 3",
   "language": "python",
   "name": "python3"
  },
  "language_info": {
   "codemirror_mode": {
    "name": "ipython",
    "version": 3
   },
   "file_extension": ".py",
   "mimetype": "text/x-python",
   "name": "python",
   "nbconvert_exporter": "python",
   "pygments_lexer": "ipython3",
   "version": "3.7.9"
  }
 },
 "nbformat": 4,
 "nbformat_minor": 4
}
